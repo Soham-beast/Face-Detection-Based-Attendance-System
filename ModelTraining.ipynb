{
  "nbformat": 4,
  "nbformat_minor": 0,
  "metadata": {
    "colab": {
      "provenance": [],
      "gpuType": "T4"
    },
    "kernelspec": {
      "name": "python3",
      "display_name": "Python 3"
    },
    "language_info": {
      "name": "python"
    },
    "accelerator": "GPU"
  },
  "cells": [
    {
      "cell_type": "code",
      "execution_count": null,
      "metadata": {
        "id": "i5-2nHevfBBG"
      },
      "outputs": [],
      "source": [
        "import pickle\n",
        "\n",
        "# Unpickle the file\n",
        "with open(r'/content/images.p', \"rb\") as f:\n",
        "  images = pickle.load(f)\n",
        "\n",
        "with open(r'/content/labels.p', \"rb\") as f:\n",
        "  labels = pickle.load(f)"
      ]
    },
    {
      "cell_type": "code",
      "source": [
        "print(images.shape)\n",
        "print(labels.shape)"
      ],
      "metadata": {
        "id": "XQrvqzGJfzjJ"
      },
      "execution_count": null,
      "outputs": []
    },
    {
      "cell_type": "code",
      "source": [
        "set(labels)"
      ],
      "metadata": {
        "id": "tk4sKAGPf0W4"
      },
      "execution_count": null,
      "outputs": []
    },
    {
      "cell_type": "code",
      "source": [
        "from sklearn.preprocessing import LabelEncoder\n",
        "le = LabelEncoder()\n",
        "labels = le.fit_transform(labels)"
      ],
      "metadata": {
        "id": "p8X10NRAf2Cb"
      },
      "execution_count": null,
      "outputs": []
    },
    {
      "cell_type": "code",
      "source": [
        "set(labels)"
      ],
      "metadata": {
        "id": "M0IBLddLf48C"
      },
      "execution_count": null,
      "outputs": []
    },
    {
      "cell_type": "code",
      "source": [
        "le.inverse_transform([0, 1, 2, 3, 4, 5, 6, 7, 8])"
      ],
      "metadata": {
        "id": "c0nUlJjCUwyE"
      },
      "execution_count": null,
      "outputs": []
    },
    {
      "cell_type": "code",
      "source": [
        "import numpy as np"
      ],
      "metadata": {
        "id": "P1FDCbQVf7Ai"
      },
      "execution_count": null,
      "outputs": []
    },
    {
      "cell_type": "code",
      "source": [
        "n_persons = len(set(labels))\n",
        "print(\"Number of persons: \", n_persons)\n",
        "label_mapping = le.inverse_transform(np.arange(n_persons))\n",
        "for i in range(len(label_mapping)):\n",
        "  print(i, \"-->\", label_mapping[i])"
      ],
      "metadata": {
        "id": "MuN4el5of97w"
      },
      "execution_count": null,
      "outputs": []
    },
    {
      "cell_type": "code",
      "source": [
        "import matplotlib.pyplot as plt\n",
        "\n",
        "plt.imshow(images[200], cmap=plt.get_cmap(\"gray\"))\n",
        "plt.show()"
      ],
      "metadata": {
        "id": "xJ7JSUivgBn2"
      },
      "execution_count": null,
      "outputs": []
    },
    {
      "cell_type": "code",
      "source": [
        "import cv2"
      ],
      "metadata": {
        "id": "m9nqMF_ZgEOe"
      },
      "execution_count": null,
      "outputs": []
    },
    {
      "cell_type": "code",
      "source": [
        "def preprocessing(img):\n",
        "  img = cv2.equalizeHist(img)\n",
        "  img = img.reshape(100, 100, 1)\n",
        "  img = img/255\n",
        "  return img"
      ],
      "metadata": {
        "id": "nJqQ7E0_gG4O"
      },
      "execution_count": null,
      "outputs": []
    },
    {
      "cell_type": "code",
      "source": [
        "images = np.array(list(map(preprocessing, images)))\n",
        "print(\"Shape of Input: \", images.shape)"
      ],
      "metadata": {
        "id": "etKN0ICEgI78"
      },
      "execution_count": null,
      "outputs": []
    },
    {
      "cell_type": "code",
      "source": [
        "print(images)"
      ],
      "metadata": {
        "id": "VyHcHAEXWZpk"
      },
      "execution_count": null,
      "outputs": []
    },
    {
      "cell_type": "code",
      "source": [
        "from tensorflow.keras.utils import to_categorical"
      ],
      "metadata": {
        "id": "sWp9M3kugNxK"
      },
      "execution_count": null,
      "outputs": []
    },
    {
      "cell_type": "code",
      "source": [
        "labels = to_categorical(labels)\n",
        "print(labels)"
      ],
      "metadata": {
        "id": "mHD4ForcgPZn"
      },
      "execution_count": null,
      "outputs": []
    },
    {
      "cell_type": "code",
      "source": [
        "categories = labels.shape[1]\n",
        "print(categories)"
      ],
      "metadata": {
        "id": "plloS2jNgROt"
      },
      "execution_count": null,
      "outputs": []
    },
    {
      "cell_type": "code",
      "source": [
        "from tensorflow.keras.models import Sequential\n",
        "from tensorflow.keras.layers import Dense\n",
        "from tensorflow.keras.optimizers import Adam\n",
        "# import convolution layer\n",
        "from tensorflow.keras.layers import Conv2D\n",
        "\n",
        "# import pooling layer\n",
        "from tensorflow.keras.layers import MaxPooling2D\n",
        "\n",
        "# import faltten layer\n",
        "from tensorflow.keras.layers import Flatten\n",
        "from tensorflow.keras.optimizers import Adam"
      ],
      "metadata": {
        "id": "9Qyn2651ji1F"
      },
      "execution_count": null,
      "outputs": []
    },
    {
      "cell_type": "code",
      "source": [
        "def modified_model():\n",
        "\n",
        "  model=Sequential()\n",
        "\n",
        "  model.add(Conv2D(64,(3,3),input_shape=(100,100,1),activation='relu'))\n",
        "  model.add(MaxPooling2D(pool_size=(2,2)))\n",
        "\n",
        "  model.add(Conv2D(64,(3,3),activation='relu'))\n",
        "  model.add(MaxPooling2D(pool_size=(2,2)))\n",
        "\n",
        "  model.add(Conv2D(128,(3,3),activation='relu'))\n",
        "  model.add(MaxPooling2D(pool_size=(2,2)))\n",
        "\n",
        "  model.add(Flatten())\n",
        "\n",
        "  model.add(Dense(800,activation='relu'))\n",
        "\n",
        "  model.add(Dense(700,activation='relu'))\n",
        "\n",
        "  model.add(Dense(600,activation='relu'))\n",
        "\n",
        "  model.add(Dense(500,activation='relu'))\n",
        "\n",
        "  model.add(Dense(9,activation='softmax'))\n",
        "  model.compile(Adam(lr=0.002),loss='categorical_crossentropy',metrics=['accuracy'])\n",
        "  return model"
      ],
      "metadata": {
        "id": "5mJR5QP__C_0"
      },
      "execution_count": null,
      "outputs": []
    },
    {
      "cell_type": "code",
      "source": [
        "model=modified_model()\n",
        "print(model.summary())"
      ],
      "metadata": {
        "id": "pZFLcuMG_FB8"
      },
      "execution_count": null,
      "outputs": []
    },
    {
      "cell_type": "code",
      "source": [
        "h=model.fit(images,labels,batch_size=80,epochs=40,validation_data=(images,labels),shuffle='True',verbose=1)"
      ],
      "metadata": {
        "id": "ALLq1_L2_NtE"
      },
      "execution_count": null,
      "outputs": []
    },
    {
      "cell_type": "code",
      "source": [
        "plt.plot(h.history['accuracy'])\n",
        "plt.plot(h.history['val_accuracy'])\n",
        "plt.legend(['accuracy','val_accuracy'])\n",
        "plt.show()"
      ],
      "metadata": {
        "id": "KRmvKsHFkiHk"
      },
      "execution_count": null,
      "outputs": []
    },
    {
      "cell_type": "code",
      "source": [
        "plt.plot(h.history['loss'])\n",
        "plt.plot(h.history['val_loss'])\n",
        "plt.legend(['loss','val_loss'])\n",
        "plt.show()"
      ],
      "metadata": {
        "id": "z_oDQpklCmQ6"
      },
      "execution_count": null,
      "outputs": []
    },
    {
      "cell_type": "code",
      "source": [
        "from tensorflow.keras.models import Model"
      ],
      "metadata": {
        "id": "rbFWXB_ilDRY"
      },
      "execution_count": null,
      "outputs": []
    },
    {
      "cell_type": "code",
      "source": [
        "layer0 = Model(model.layers[0].input, model.layers[0].output)\n",
        "features = layer0.predict(images[200].reshape(1,100,100,1))"
      ],
      "metadata": {
        "id": "zB2cofcrlPoO"
      },
      "execution_count": null,
      "outputs": []
    },
    {
      "cell_type": "code",
      "source": [
        "features.shape"
      ],
      "metadata": {
        "id": "aJa7Pu8AlR3D"
      },
      "execution_count": null,
      "outputs": []
    },
    {
      "cell_type": "code",
      "source": [
        "plt.figure(figsize=(10,15))\n",
        "for i in range(32):\n",
        "  axes = plt.subplot(8, 4, i+1)\n",
        "  plt.imshow(features[0,:,:,i])"
      ],
      "metadata": {
        "id": "PJed-FNZlUhs"
      },
      "execution_count": null,
      "outputs": []
    },
    {
      "cell_type": "code",
      "source": [
        "from google.colab import files\n",
        "upload=files.upload()"
      ],
      "metadata": {
        "id": "6S5PboeolWN-"
      },
      "execution_count": null,
      "outputs": []
    },
    {
      "cell_type": "code",
      "source": [
        "d=list(upload.keys())[0]"
      ],
      "metadata": {
        "id": "uTC-F3Q9lZPD"
      },
      "execution_count": null,
      "outputs": []
    },
    {
      "cell_type": "code",
      "source": [
        "import cv2\n",
        "a=np.fromstring(upload[d],np.uint8)\n",
        "img=cv2.imdecode(a,cv2.IMREAD_COLOR)\n",
        "img=cv2.cvtColor(img,cv2.COLOR_BGR2GRAY)\n",
        "print(a)\n",
        "plt.imshow(img,cmap=plt.get_cmap(\"gray\"))"
      ],
      "metadata": {
        "id": "_lk1T_jNlbxv"
      },
      "execution_count": null,
      "outputs": []
    },
    {
      "cell_type": "code",
      "source": [
        "img=np.asarray(img)\n",
        "img=cv2.resize(img,(100,100))\n",
        "img=preprocessing(img)\n",
        "\n"
      ],
      "metadata": {
        "id": "veaYVK90lgL9"
      },
      "execution_count": null,
      "outputs": []
    },
    {
      "cell_type": "code",
      "source": [
        "img=img.reshape(1,100,100,1)\n",
        "print(model.predict(img))"
      ],
      "metadata": {
        "id": "z4t1kLvvqyvv"
      },
      "execution_count": null,
      "outputs": []
    },
    {
      "cell_type": "code",
      "source": [
        "prediction=model.predict(img)"
      ],
      "metadata": {
        "id": "6jboDqSflhAy"
      },
      "execution_count": null,
      "outputs": []
    },
    {
      "cell_type": "code",
      "source": [
        "p=np.argmax(prediction,axis=1)\n",
        "p"
      ],
      "metadata": {
        "id": "aSOxBECNrbMN"
      },
      "execution_count": null,
      "outputs": []
    },
    {
      "cell_type": "code",
      "source": [
        "model.save(\"final_model.h5\")"
      ],
      "metadata": {
        "id": "zB6JTAC5lla_"
      },
      "execution_count": null,
      "outputs": []
    },
    {
      "cell_type": "code",
      "source": [],
      "metadata": {
        "id": "uBYFJraNhziT"
      },
      "execution_count": null,
      "outputs": []
    }
  ]
}